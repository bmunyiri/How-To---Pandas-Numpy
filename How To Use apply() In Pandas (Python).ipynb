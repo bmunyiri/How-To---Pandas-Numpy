{
 "cells": [
  {
   "cell_type": "code",
   "execution_count": 1,
   "id": "195a20e3",
   "metadata": {},
   "outputs": [
    {
     "data": {
      "text/html": [
       "<div>\n",
       "<style scoped>\n",
       "    .dataframe tbody tr th:only-of-type {\n",
       "        vertical-align: middle;\n",
       "    }\n",
       "\n",
       "    .dataframe tbody tr th {\n",
       "        vertical-align: top;\n",
       "    }\n",
       "\n",
       "    .dataframe thead th {\n",
       "        text-align: right;\n",
       "    }\n",
       "</style>\n",
       "<table border=\"1\" class=\"dataframe\">\n",
       "  <thead>\n",
       "    <tr style=\"text-align: right;\">\n",
       "      <th></th>\n",
       "      <th>power_level</th>\n",
       "      <th>uniform color</th>\n",
       "      <th>species</th>\n",
       "    </tr>\n",
       "  </thead>\n",
       "  <tbody>\n",
       "    <tr>\n",
       "      <th>Goku</th>\n",
       "      <td>12000</td>\n",
       "      <td>orange</td>\n",
       "      <td>saiyan</td>\n",
       "    </tr>\n",
       "    <tr>\n",
       "      <th>Vegeta</th>\n",
       "      <td>16000</td>\n",
       "      <td>blue</td>\n",
       "      <td>saiyan</td>\n",
       "    </tr>\n",
       "    <tr>\n",
       "      <th>Nappa</th>\n",
       "      <td>4000</td>\n",
       "      <td>black</td>\n",
       "      <td>saiyan</td>\n",
       "    </tr>\n",
       "    <tr>\n",
       "      <th>Gohan</th>\n",
       "      <td>1500</td>\n",
       "      <td>orange</td>\n",
       "      <td>half saiyan</td>\n",
       "    </tr>\n",
       "    <tr>\n",
       "      <th>Piccolo</th>\n",
       "      <td>3000</td>\n",
       "      <td>purple</td>\n",
       "      <td>namak</td>\n",
       "    </tr>\n",
       "    <tr>\n",
       "      <th>Tien</th>\n",
       "      <td>2000</td>\n",
       "      <td>green</td>\n",
       "      <td>human</td>\n",
       "    </tr>\n",
       "    <tr>\n",
       "      <th>Yamcha</th>\n",
       "      <td>1600</td>\n",
       "      <td>orange</td>\n",
       "      <td>human</td>\n",
       "    </tr>\n",
       "    <tr>\n",
       "      <th>Krillin</th>\n",
       "      <td>2000</td>\n",
       "      <td>orange</td>\n",
       "      <td>human</td>\n",
       "    </tr>\n",
       "    <tr>\n",
       "      <th>Roshi</th>\n",
       "      <td>300</td>\n",
       "      <td>orange</td>\n",
       "      <td>human</td>\n",
       "    </tr>\n",
       "  </tbody>\n",
       "</table>\n",
       "</div>"
      ],
      "text/plain": [
       "         power_level uniform color      species\n",
       "Goku           12000        orange       saiyan\n",
       "Vegeta         16000          blue       saiyan\n",
       "Nappa           4000         black       saiyan\n",
       "Gohan           1500        orange  half saiyan\n",
       "Piccolo         3000        purple        namak\n",
       "Tien            2000         green        human\n",
       "Yamcha          1600        orange        human\n",
       "Krillin         2000        orange        human\n",
       "Roshi            300        orange        human"
      ]
     },
     "execution_count": 1,
     "metadata": {},
     "output_type": "execute_result"
    }
   ],
   "source": [
    "import pandas as pd \n",
    "\n",
    "data = pd.DataFrame({\"power_level\": [12000, 16000, 4000, 1500, 3000, \n",
    "                                     2000, 1600, 2000, 300],\n",
    "                     \"uniform color\": [\"orange\", \"blue\", \"black\", \"orange\",\n",
    "                                       \"purple\", \"green\", \"orange\", \"orange\",\"orange\"],\n",
    "                     \"species\": [\"saiyan\",\"saiyan\",\"saiyan\",\"half saiyan\",\n",
    "                                 \"namak\",\"human\",\"human\",\"human\",\"human\"]}, \n",
    "                     index = [\"Goku\",\"Vegeta\", \"Nappa\",\"Gohan\",\n",
    "                                   \"Piccolo\",\"Tien\",\"Yamcha\", \"Krillin\",\"Roshi\"])\n",
    "\n",
    "data"
   ]
  },
  {
   "cell_type": "markdown",
   "id": "bca9254f",
   "metadata": {},
   "source": [
    "# Use .apply() to apply a function to a Series (single column)"
   ]
  },
  {
   "cell_type": "code",
   "execution_count": 2,
   "id": "aa1ac0d1",
   "metadata": {},
   "outputs": [
    {
     "ename": "SyntaxError",
     "evalue": "invalid character '＞' (U+FF1E) (1718909684.py, line 2)",
     "output_type": "error",
     "traceback": [
      "\u001b[1;36m  Input \u001b[1;32mIn [2]\u001b[1;36m\u001b[0m\n\u001b[1;33m    if x ＞  h:\u001b[0m\n\u001b[1;37m         ^\u001b[0m\n\u001b[1;31mSyntaxError\u001b[0m\u001b[1;31m:\u001b[0m invalid character '＞' (U+FF1E)\n"
     ]
    }
   ],
   "source": [
    "def my_function(x, h, l):\n",
    "    if x ＞  h:\n",
    "        return(\"high\")\n",
    "    if x ＞  l:\n",
    "        return(\"med\")\n",
    "    return (\"low\")\n",
    "\n",
    "\n",
    "data[\"power_level\"].apply(my_function, args = [10000, 2000])"
   ]
  },
  {
   "cell_type": "markdown",
   "id": "b27f7923",
   "metadata": {},
   "source": [
    "\n",
    "# Apply a function to each column with axis = 0"
   ]
  },
  {
   "cell_type": "markdown",
   "id": "621c9f4f",
   "metadata": {},
   "source": [
    "## Can be used to create new rows/summary rows"
   ]
  },
  {
   "cell_type": "code",
   "execution_count": 3,
   "id": "3e90cc28",
   "metadata": {},
   "outputs": [
    {
     "data": {
      "text/html": [
       "<div>\n",
       "<style scoped>\n",
       "    .dataframe tbody tr th:only-of-type {\n",
       "        vertical-align: middle;\n",
       "    }\n",
       "\n",
       "    .dataframe tbody tr th {\n",
       "        vertical-align: top;\n",
       "    }\n",
       "\n",
       "    .dataframe thead th {\n",
       "        text-align: right;\n",
       "    }\n",
       "</style>\n",
       "<table border=\"1\" class=\"dataframe\">\n",
       "  <thead>\n",
       "    <tr style=\"text-align: right;\">\n",
       "      <th></th>\n",
       "      <th>power_level</th>\n",
       "      <th>uniform color</th>\n",
       "      <th>species</th>\n",
       "    </tr>\n",
       "  </thead>\n",
       "  <tbody>\n",
       "    <tr>\n",
       "      <th>0</th>\n",
       "      <td>2000</td>\n",
       "      <td>orange</td>\n",
       "      <td>human</td>\n",
       "    </tr>\n",
       "  </tbody>\n",
       "</table>\n",
       "</div>"
      ],
      "text/plain": [
       "   power_level uniform color species\n",
       "0         2000        orange   human"
      ]
     },
     "execution_count": 3,
     "metadata": {},
     "output_type": "execute_result"
    }
   ],
   "source": [
    "def mode(x):\n",
    "    return x.mode()\n",
    "\n",
    "data.apply(mode, axis = 0)"
   ]
  },
  {
   "cell_type": "markdown",
   "id": "c2e2368a",
   "metadata": {},
   "source": [
    "\n",
    "# Apply a function to each row with axis = 1"
   ]
  },
  {
   "cell_type": "markdown",
   "id": "61cbca5c",
   "metadata": {},
   "source": [
    "## Can be used to create new columns/summary columns"
   ]
  },
  {
   "cell_type": "code",
   "execution_count": 4,
   "id": "4b5d139f",
   "metadata": {},
   "outputs": [
    {
     "data": {
      "text/plain": [
       "Goku        6\n",
       "Vegeta      6\n",
       "Nappa       6\n",
       "Gohan      11\n",
       "Piccolo     6\n",
       "Tien        5\n",
       "Yamcha      6\n",
       "Krillin     6\n",
       "Roshi       6\n",
       "dtype: int64"
      ]
     },
     "execution_count": 4,
     "metadata": {},
     "output_type": "execute_result"
    }
   ],
   "source": [
    "def max_str_len(x):\n",
    "    return max([len(str(v)) for v in x])\n",
    "\n",
    "data.apply(max_str_len, axis = 1)"
   ]
  },
  {
   "cell_type": "markdown",
   "id": "a6260253",
   "metadata": {},
   "source": [
    "# Apply a function to each row, referencing column names:"
   ]
  },
  {
   "cell_type": "code",
   "execution_count": 5,
   "id": "627e4dae",
   "metadata": {},
   "outputs": [
    {
     "data": {
      "text/plain": [
       "Goku           saiyan with power level: 12000\n",
       "Vegeta         saiyan with power level: 16000\n",
       "Nappa           saiyan with power level: 4000\n",
       "Gohan      half saiyan with power level: 1500\n",
       "Piccolo          namak with power level: 3000\n",
       "Tien             human with power level: 2000\n",
       "Yamcha           human with power level: 1600\n",
       "Krillin          human with power level: 2000\n",
       "Roshi             human with power level: 300\n",
       "dtype: object"
      ]
     },
     "execution_count": 5,
     "metadata": {},
     "output_type": "execute_result"
    }
   ],
   "source": [
    "def make_char_string(x):\n",
    "    return(f\"{x.species} with power level: {x.power_level}\")\n",
    "\n",
    "data.apply(make_char_string, axis = 1 )"
   ]
  },
  {
   "cell_type": "markdown",
   "id": "4b435298",
   "metadata": {},
   "source": [
    "# Apply a function to ALL elements in a Data Frame"
   ]
  },
  {
   "cell_type": "code",
   "execution_count": null,
   "id": "4e5db1a5",
   "metadata": {},
   "outputs": [],
   "source": []
  }
 ],
 "metadata": {
  "kernelspec": {
   "display_name": "Python 3 (ipykernel)",
   "language": "python",
   "name": "python3"
  },
  "language_info": {
   "codemirror_mode": {
    "name": "ipython",
    "version": 3
   },
   "file_extension": ".py",
   "mimetype": "text/x-python",
   "name": "python",
   "nbconvert_exporter": "python",
   "pygments_lexer": "ipython3",
   "version": "3.9.12"
  }
 },
 "nbformat": 4,
 "nbformat_minor": 5
}
