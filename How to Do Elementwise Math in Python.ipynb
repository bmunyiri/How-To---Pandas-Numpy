{
 "cells": [
  {
   "cell_type": "markdown",
   "id": "d87aef8b",
   "metadata": {},
   "source": [
    "# Elementwise math on two lists using zip"
   ]
  },
  {
   "cell_type": "code",
   "execution_count": 1,
   "id": "10bb970c",
   "metadata": {},
   "outputs": [
    {
     "data": {
      "text/plain": [
       "[7, 9, 11, 13, 15]"
      ]
     },
     "execution_count": 1,
     "metadata": {},
     "output_type": "execute_result"
    }
   ],
   "source": [
    "list1 = [1,2,3,4,5]\n",
    "list2 = [6,7,8,9,10]\n",
    "\n",
    "elementwise_result = [l1 + l2 for l1, l2 in zip(list1, list2)]\n",
    "\n",
    "elementwise_result"
   ]
  },
  {
   "cell_type": "markdown",
   "id": "facfd9a3",
   "metadata": {},
   "source": [
    "# Elementwise math using numpy arrays --The Better Way"
   ]
  },
  {
   "cell_type": "code",
   "execution_count": 2,
   "id": "fbb67b06",
   "metadata": {},
   "outputs": [
    {
     "data": {
      "text/plain": [
       "array([ 7,  9, 11, 13, 15])"
      ]
     },
     "execution_count": 2,
     "metadata": {},
     "output_type": "execute_result"
    }
   ],
   "source": [
    "import numpy as np\n",
    "\n",
    "list1 = np.array(list1)\n",
    "list2 = np.array(list2)\n",
    "\n",
    "list1 + list2"
   ]
  },
  {
   "cell_type": "markdown",
   "id": "3c5abc88",
   "metadata": {},
   "source": [
    "# Elementwise math on columns in pandas data frames"
   ]
  },
  {
   "cell_type": "code",
   "execution_count": 3,
   "id": "f307acd9",
   "metadata": {},
   "outputs": [
    {
     "data": {
      "text/plain": [
       "0     7\n",
       "1     9\n",
       "2    11\n",
       "3    13\n",
       "4    15\n",
       "dtype: int32"
      ]
     },
     "execution_count": 3,
     "metadata": {},
     "output_type": "execute_result"
    }
   ],
   "source": [
    "import pandas as pd\n",
    "\n",
    "df = pd.DataFrame(data = {\"list1\": list1, \"list2\" : list2})\n",
    "\n",
    "df.list1 + df.list2"
   ]
  },
  {
   "cell_type": "code",
   "execution_count": null,
   "id": "c7cd482b",
   "metadata": {},
   "outputs": [],
   "source": []
  }
 ],
 "metadata": {
  "kernelspec": {
   "display_name": "Python 3 (ipykernel)",
   "language": "python",
   "name": "python3"
  },
  "language_info": {
   "codemirror_mode": {
    "name": "ipython",
    "version": 3
   },
   "file_extension": ".py",
   "mimetype": "text/x-python",
   "name": "python",
   "nbconvert_exporter": "python",
   "pygments_lexer": "ipython3",
   "version": "3.9.12"
  }
 },
 "nbformat": 4,
 "nbformat_minor": 5
}
