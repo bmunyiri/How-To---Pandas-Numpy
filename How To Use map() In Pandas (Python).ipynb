{
 "cells": [
  {
   "cell_type": "code",
   "execution_count": 1,
   "id": "d34da635",
   "metadata": {},
   "outputs": [
    {
     "data": {
      "text/html": [
       "<div>\n",
       "<style scoped>\n",
       "    .dataframe tbody tr th:only-of-type {\n",
       "        vertical-align: middle;\n",
       "    }\n",
       "\n",
       "    .dataframe tbody tr th {\n",
       "        vertical-align: top;\n",
       "    }\n",
       "\n",
       "    .dataframe thead th {\n",
       "        text-align: right;\n",
       "    }\n",
       "</style>\n",
       "<table border=\"1\" class=\"dataframe\">\n",
       "  <thead>\n",
       "    <tr style=\"text-align: right;\">\n",
       "      <th></th>\n",
       "      <th>power_level</th>\n",
       "      <th>uniform color</th>\n",
       "      <th>species</th>\n",
       "    </tr>\n",
       "  </thead>\n",
       "  <tbody>\n",
       "    <tr>\n",
       "      <th>Goku</th>\n",
       "      <td>12000</td>\n",
       "      <td>orange</td>\n",
       "      <td>saiyan</td>\n",
       "    </tr>\n",
       "    <tr>\n",
       "      <th>Vegeta</th>\n",
       "      <td>16000</td>\n",
       "      <td>blue</td>\n",
       "      <td>saiyan</td>\n",
       "    </tr>\n",
       "    <tr>\n",
       "      <th>Nappa</th>\n",
       "      <td>4000</td>\n",
       "      <td>black</td>\n",
       "      <td>saiyan</td>\n",
       "    </tr>\n",
       "    <tr>\n",
       "      <th>Gohan</th>\n",
       "      <td>1500</td>\n",
       "      <td>orange</td>\n",
       "      <td>half saiyan</td>\n",
       "    </tr>\n",
       "    <tr>\n",
       "      <th>Piccolo</th>\n",
       "      <td>3000</td>\n",
       "      <td>purple</td>\n",
       "      <td>namak</td>\n",
       "    </tr>\n",
       "    <tr>\n",
       "      <th>Tien</th>\n",
       "      <td>2000</td>\n",
       "      <td>green</td>\n",
       "      <td>human</td>\n",
       "    </tr>\n",
       "    <tr>\n",
       "      <th>Yamcha</th>\n",
       "      <td>1600</td>\n",
       "      <td>orange</td>\n",
       "      <td>human</td>\n",
       "    </tr>\n",
       "    <tr>\n",
       "      <th>Krillin</th>\n",
       "      <td>2000</td>\n",
       "      <td>orange</td>\n",
       "      <td>human</td>\n",
       "    </tr>\n",
       "  </tbody>\n",
       "</table>\n",
       "</div>"
      ],
      "text/plain": [
       "         power_level uniform color      species\n",
       "Goku           12000        orange       saiyan\n",
       "Vegeta         16000          blue       saiyan\n",
       "Nappa           4000         black       saiyan\n",
       "Gohan           1500        orange  half saiyan\n",
       "Piccolo         3000        purple        namak\n",
       "Tien            2000         green        human\n",
       "Yamcha          1600        orange        human\n",
       "Krillin         2000        orange        human"
      ]
     },
     "execution_count": 1,
     "metadata": {},
     "output_type": "execute_result"
    }
   ],
   "source": [
    "import pandas as pd \n",
    "\n",
    "data = pd.DataFrame({\"power_level\": [12000, 16000, 4000, 1500, 3000, \n",
    "                                     2000, 1600, 2000],\n",
    "                     \"uniform color\": [\"orange\", \"blue\", \"black\", \"orange\",\n",
    "                                       \"purple\", \"green\", \"orange\", \"orange\"],\n",
    "                     \"species\": [\"saiyan\",\"saiyan\",\"saiyan\",\"half saiyan\",\n",
    "                                 \"namak\",\"human\",\"human\",\"human\"]}, \n",
    "                     index = [\"Goku\",\"Vegeta\", \"Nappa\",\"Gohan\",\n",
    "                                   \"Piccolo\",\"Tien\",\"Yamcha\", \"Krillin\"])\n",
    "\n",
    "data"
   ]
  },
  {
   "cell_type": "markdown",
   "id": "cf7681c2",
   "metadata": {},
   "source": [
    "# Use .map() to apply a function to a pandas Series"
   ]
  },
  {
   "cell_type": "markdown",
   "id": "194c134b",
   "metadata": {},
   "source": [
    "## Data Frame columns are Series"
   ]
  },
  {
   "cell_type": "code",
   "execution_count": 3,
   "id": "0c7c0d0c",
   "metadata": {},
   "outputs": [
    {
     "data": {
      "text/plain": [
       "Goku       high\n",
       "Vegeta     high\n",
       "Nappa       med\n",
       "Gohan       low\n",
       "Piccolo     med\n",
       "Tien        low\n",
       "Yamcha      low\n",
       "Krillin     low\n",
       "Name: power_level, dtype: object"
      ]
     },
     "execution_count": 3,
     "metadata": {},
     "output_type": "execute_result"
    }
   ],
   "source": [
    "def my_function(x):\n",
    "    if x > 10000:\n",
    "        return(\"high\")\n",
    "    if x > 2000:\n",
    "        return(\"med\")\n",
    "    return (\"low\")\n",
    "\n",
    "\n",
    "data[\"power_level\"].map(my_function)"
   ]
  },
  {
   "cell_type": "markdown",
   "id": "53529cf3",
   "metadata": {},
   "source": [
    "# To map Series values based on key: value correspondence"
   ]
  },
  {
   "cell_type": "markdown",
   "id": "b5b1d0e6",
   "metadata": {},
   "source": [
    "## Pass a mapping dictionary to .map() "
   ]
  },
  {
   "cell_type": "code",
   "execution_count": 4,
   "id": "fc47e699",
   "metadata": {},
   "outputs": [
    {
     "data": {
      "text/plain": [
       "Goku           alien\n",
       "Vegeta         alien\n",
       "Nappa          alien\n",
       "Gohan      earthling\n",
       "Piccolo        alien\n",
       "Tien       earthling\n",
       "Yamcha     earthling\n",
       "Krillin    earthling\n",
       "Name: species, dtype: object"
      ]
     },
     "execution_count": 4,
     "metadata": {},
     "output_type": "execute_result"
    }
   ],
   "source": [
    "correspondence = {\"saiyan\": \"alien\", \n",
    "                  \"namak\":\"alien\", \n",
    "                  \"human\":\"earthling\", \n",
    "                  \"half saiyan\": \"earthling\"}\n",
    "\n",
    "data[\"species\"].map(correspondence)"
   ]
  },
  {
   "cell_type": "code",
   "execution_count": null,
   "id": "d9a4b013",
   "metadata": {},
   "outputs": [],
   "source": []
  }
 ],
 "metadata": {
  "kernelspec": {
   "display_name": "Python 3 (ipykernel)",
   "language": "python",
   "name": "python3"
  },
  "language_info": {
   "codemirror_mode": {
    "name": "ipython",
    "version": 3
   },
   "file_extension": ".py",
   "mimetype": "text/x-python",
   "name": "python",
   "nbconvert_exporter": "python",
   "pygments_lexer": "ipython3",
   "version": "3.9.12"
  }
 },
 "nbformat": 4,
 "nbformat_minor": 5
}
